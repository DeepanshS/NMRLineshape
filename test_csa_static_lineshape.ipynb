{
 "cells": [
  {
   "cell_type": "code",
   "execution_count": 1,
   "metadata": {},
   "outputs": [],
   "source": [
    "import NMRLineshape as nmr\n",
    "import numpy as np\n",
    "import matplotlib.pyplot as plt\n",
    "from pymatgen.analysis.nmr import ChemicalShielding"
   ]
  },
  {
   "cell_type": "code",
   "execution_count": 2,
   "metadata": {},
   "outputs": [
    {
     "name": "stdout",
     "output_type": "stream",
     "text": [
      "\n",
      "\tThe method computes a static chemical shielding anisotropy (CSA) NMR\n",
      "\tlineshape spectrum by applying the powder averaging scheme to the CSA\n",
      "\ttensor in the principal axis system (PAS). Note, the CSA tensor is diagonal\n",
      "\tin the PAS with three principal components. The following code uses the\n",
      "\tHaeberlen convention for the principal components.\n",
      "\n",
      "\tThe amplitude of the spectrum is evaluated at frequencies which are given by\n",
      "\t``freq = np.arange(number_of_points)/number_of_points * frequency_bandwidth + start_frequency``\n",
      "\n",
      "\tThe code implements the powder averaging scheme by\n",
      "\tAlderman, Solum and Grant, J. Chem. Phys, 84, 1985. DOI: 10.1063/1.450211\n",
      "\t\n",
      "\t:attr:haeberlen_values: namedtuple: A namedTuple HaeberlenNotation from\n",
      "\t\t\t\t\t\t\t\t\t\tpymatgen.analysis.nmr\n",
      "\t:attr:number_of_points: int: The number of points in the frequency dimension.\n",
      "\t:attr:start_frequency: float:The starting frequency.\n",
      "\t:attr:frequency_bandwidth float: The spectral width of the frequency spectrum.\n",
      "\t:attr:nt: int: The number of equilateral triangle segments along the edge of\n",
      "\t\t\t\t   an octahedron face. A higher number results in better averaging.\n",
      "\t\t\t\t   The default is 48.\n",
      "\n",
      "\t:returns:freq: A ``Numpy array`` of frequencies.\n",
      "\t:returns:amp: A ``Numpy array`` of amplitudes corresponding to the frequencies.\n",
      "\t\n"
     ]
    }
   ],
   "source": [
    "print(nmr.CSA_static_lineshape.__doc__)"
   ]
  },
  {
   "cell_type": "markdown",
   "metadata": {},
   "source": [
    "The following $^{29}$Si nuclear shielding tensor is taken from the Gaussian output. The tensor corresponds to a Si atom in the highly siliceous zeolite Sigma-2."
   ]
  },
  {
   "cell_type": "code",
   "execution_count": 3,
   "metadata": {},
   "outputs": [],
   "source": [
    "Si29_tensor = [[443.2366, -10.9178, 0.0133  ],\n",
    "               [9.7144  , 435.4115, 0.0330  ],\n",
    "               [0.1192  , 0.6163  , 433.3699]]"
   ]
  },
  {
   "cell_type": "markdown",
   "metadata": {},
   "source": [
    "The ``ChemicalShielding`` class from `pymatgen.analysis.nmr` finds the three components of this tensor in the principal axis system. \n",
    "\n",
    "****\n",
    "**Note**\n",
    "\n",
    "Only the symmetric part of the shielding or chemical shift tensor contributes to the observable NMR frequency. Calculate the symmetric part of the `Si29_tensor` before passing it as an argument of the ``ChemicalShielding``.\n",
    "\n",
    "---"
   ]
  },
  {
   "cell_type": "code",
   "execution_count": 3,
   "metadata": {},
   "outputs": [],
   "source": [
    "Si29_tensor = np.asarray(Si29_tensor)\n",
    "Si29_tensor = (Si29_tensor+Si29_tensor.T)/2\n",
    "tensor = ChemicalShielding(Si29_tensor)"
   ]
  },
  {
   "cell_type": "markdown",
   "metadata": {},
   "source": [
    "where the variable `tensor` is the symmetric part of the shielding tensor. Simulate the NMR shielding/chemical shift line shape spectrum using"
   ]
  },
  {
   "cell_type": "code",
   "execution_count": 4,
   "metadata": {},
   "outputs": [],
   "source": [
    "freq, amp = nmr.CSA_static_lineshape(tensor.haeberlen_values,\n",
    "                        number_of_points=512,\n",
    "                        start_frequency=420.,\n",
    "                        frequency_bandwidth=50)"
   ]
  },
  {
   "cell_type": "code",
   "execution_count": 5,
   "metadata": {},
   "outputs": [
    {
     "data": {
      "image/png": "[encoded data removed]",
      "text/plain": [
       "<Figure size 432x288 with 1 Axes>"
      ]
     },
     "metadata": {
      "needs_background": "light"
     },
     "output_type": "display_data"
    }
   ],
   "source": [
    "plt.plot(freq, amp)\n",
    "plt.xlabel('$^{29}$Si nuclear shielding frequency / ppm')\n",
    "plt.ylabel('intensity')\n",
    "plt.show()"
   ]
  },
  {
   "cell_type": "code",
   "execution_count": null,
   "metadata": {},
   "outputs": [],
   "source": []
  }
 ],
 "metadata": {
  "kernelspec": {
   "display_name": "Python 3",
   "language": "python",
   "name": "python3"
  },
  "language_info": {
   "codemirror_mode": {
    "name": "ipython",
    "version": 3
   },
   "file_extension": ".py",
   "mimetype": "text/x-python",
   "name": "python",
   "nbconvert_exporter": "python",
   "pygments_lexer": "ipython3",
   "version": "3.6.6"
  }
 },
 "nbformat": 4,
 "nbformat_minor": 2
}
